{
  "nbformat": 4,
  "nbformat_minor": 0,
  "metadata": {
    "colab": {
      "provenance": [],
      "authorship_tag": "ABX9TyOvgaMvmQTVfSSp+4tF2TuK",
      "include_colab_link": true
    },
    "kernelspec": {
      "name": "python3",
      "display_name": "Python 3"
    },
    "language_info": {
      "name": "python"
    }
  },
  "cells": [
    {
      "cell_type": "markdown",
      "metadata": {
        "id": "view-in-github",
        "colab_type": "text"
      },
      "source": [
        "<a href=\"https://colab.research.google.com/github/binayak9932/python_scripts/blob/main/diversion_1.ipynb\" target=\"_parent\"><img src=\"https://colab.research.google.com/assets/colab-badge.svg\" alt=\"Open In Colab\"/></a>"
      ]
    },
    {
      "cell_type": "code",
      "source": [
        "import nltk\n",
        "nltk.download('punkt')"
      ],
      "metadata": {
        "colab": {
          "base_uri": "https://localhost:8080/"
        },
        "id": "TeAW5FNZEwDh",
        "outputId": "37d5e2ae-5a50-416b-ac6f-36fe82d31028"
      },
      "execution_count": 24,
      "outputs": [
        {
          "output_type": "stream",
          "name": "stderr",
          "text": [
            "[nltk_data] Downloading package punkt to /root/nltk_data...\n",
            "[nltk_data]   Package punkt is already up-to-date!\n"
          ]
        },
        {
          "output_type": "execute_result",
          "data": {
            "text/plain": [
              "True"
            ]
          },
          "metadata": {},
          "execution_count": 24
        }
      ]
    },
    {
      "cell_type": "code",
      "source": [
        "!pip install nltk\n",
        "!nltk.download('stopwords')"
      ],
      "metadata": {
        "colab": {
          "base_uri": "https://localhost:8080/"
        },
        "id": "pHlr9BLxFMV2",
        "outputId": "1c014c5d-f147-4790-8561-78b802b40168"
      },
      "execution_count": 25,
      "outputs": [
        {
          "output_type": "stream",
          "name": "stdout",
          "text": [
            "Requirement already satisfied: nltk in /usr/local/lib/python3.10/dist-packages (3.8.1)\n",
            "Requirement already satisfied: click in /usr/local/lib/python3.10/dist-packages (from nltk) (8.1.7)\n",
            "Requirement already satisfied: joblib in /usr/local/lib/python3.10/dist-packages (from nltk) (1.3.2)\n",
            "Requirement already satisfied: regex>=2021.8.3 in /usr/local/lib/python3.10/dist-packages (from nltk) (2023.6.3)\n",
            "Requirement already satisfied: tqdm in /usr/local/lib/python3.10/dist-packages (from nltk) (4.66.1)\n",
            "/bin/bash: -c: line 1: syntax error near unexpected token `'stopwords''\n",
            "/bin/bash: -c: line 1: `nltk.download('stopwords')'\n"
          ]
        }
      ]
    },
    {
      "cell_type": "code",
      "source": [
        "import nltk\n",
        "nltk.download('punkt')\n",
        "nltk.download('stopwords')\n"
      ],
      "metadata": {
        "colab": {
          "base_uri": "https://localhost:8080/"
        },
        "id": "4nabnumaFl97",
        "outputId": "47d57126-913b-4feb-b5bf-b8fa367891c7"
      },
      "execution_count": 26,
      "outputs": [
        {
          "output_type": "stream",
          "name": "stderr",
          "text": [
            "[nltk_data] Downloading package punkt to /root/nltk_data...\n",
            "[nltk_data]   Package punkt is already up-to-date!\n",
            "[nltk_data] Downloading package stopwords to /root/nltk_data...\n",
            "[nltk_data]   Package stopwords is already up-to-date!\n"
          ]
        },
        {
          "output_type": "execute_result",
          "data": {
            "text/plain": [
              "True"
            ]
          },
          "metadata": {},
          "execution_count": 26
        }
      ]
    },
    {
      "cell_type": "code",
      "source": [
        "import csv\n",
        "\n",
        "\n",
        "categories_data = {\n",
        "    'Internet': {'Keywords': ['internet' ], 'Priority': 'Low'},\n",
        "    'Maintenance': {'Keywords': ['leak', 'elevator', 'not working'], 'Priority': 'High'},\n",
        "    'Technical': {'Keywords': ['computer', 'crashed', 'lost', 'work'], 'Priority': 'Low'},\n",
        "    'Order Issue': {'Keywords': ['wrong', 'item', 'order'], 'Priority': 'Low'}\n",
        "}\n",
        "\n",
        "\n",
        "data_for_csv = [{'Category': category, 'Keywords': ', '.join(details['Keywords']), 'Priority': details['Priority']} for category, details in categories_data.items()]\n",
        "\n",
        "\n",
        "with open('categories_with_priority.csv', 'w', newline='', encoding='utf-8') as csvfile:\n",
        "    fieldnames = ['Category', 'Keywords', 'Priority']\n",
        "    writer = csv.DictWriter(csvfile, fieldnames=fieldnames)\n",
        "    writer.writeheader()\n",
        "    writer.writerows(data_for_csv)\n",
        "\n",
        "print(\"CSV file 'categories_with_priority.csv' has been created with the categories data including Priority.\")\n"
      ],
      "metadata": {
        "colab": {
          "base_uri": "https://localhost:8080/"
        },
        "id": "yHRyUIRoH1os",
        "outputId": "aeb5b010-dbf6-4bc0-aa35-d65f9549bc14"
      },
      "execution_count": 31,
      "outputs": [
        {
          "output_type": "stream",
          "name": "stdout",
          "text": [
            "CSV file 'categories_with_priority.csv' has been created with the categories data including Priority.\n"
          ]
        }
      ]
    },
    {
      "cell_type": "code",
      "source": [
        "import csv\n",
        "import nltk\n",
        "from nltk.tokenize import word_tokenize\n",
        "from nltk.corpus import stopwords\n",
        "from collections import defaultdict\n",
        "nltk.download('punkt')\n",
        "nltk.download('stopwords')\n",
        "\n",
        "\n",
        "def read_categories_from_csv(file_name):\n",
        "    categories = {}\n",
        "    with open(file_name, 'r', encoding='utf-8-sig') as file:\n",
        "        reader = csv.DictReader(file)\n",
        "        for row in reader:\n",
        "            category = row['Category']\n",
        "            keywords = row['Keywords'].split(',')\n",
        "            priority = row['Priority']\n",
        "            categories[category] = {'Keywords': [keyword.strip().lower() for keyword in keywords], 'Priority': priority}\n",
        "    return categories\n",
        "\n",
        "\n",
        "def preprocess_text(text):\n",
        "    tokens = word_tokenize(text.lower())\n",
        "    stop_words = set(stopwords.words('english'))\n",
        "    tokens = [token for token in tokens if token.isalpha() and token not in stop_words]\n",
        "    return tokens\n",
        "\n",
        "\n",
        "def categorize_complaints(complaint, categories):\n",
        "    tokens = preprocess_text(complaint)\n",
        "    priority = 'Low'\n",
        "    categorized_complaints = defaultdict(list)\n",
        "    for category, details in categories.items():\n",
        "        keywords = details['Keywords']\n",
        "        if any(keyword in tokens for keyword in keywords):\n",
        "            categorized_complaints[category].append(complaint)\n",
        "            if details['Priority'] == 'High':\n",
        "                priority = 'High'\n",
        "    return categorized_complaints, priority\n",
        "\n",
        "\n",
        "categories = read_categories_from_csv('categories_with_priority.csv')\n",
        "\n",
        "\n",
        "user_complaint = input(\"Enter your complaint: \")\n",
        "\n",
        "categorized_complaints, priority = categorize_complaints(user_complaint, categories)\n",
        "\n",
        "\n",
        "if priority == 'High':\n",
        "    print(\"Priority: High\")\n",
        "else:\n",
        "    print(\"Priority: Low\")\n",
        "\n",
        "print(\"Categorized Complaints:\")\n",
        "for category, complaints in categorized_complaints.items():\n",
        "    print(f\"Category: {category}\")\n",
        "    print(\"Complaints:\", complaints)\n"
      ],
      "metadata": {
        "colab": {
          "base_uri": "https://localhost:8080/"
        },
        "id": "ktwwdOsXH21A",
        "outputId": "e3f18acd-0c50-433f-f7d5-821d7def90ce"
      },
      "execution_count": 32,
      "outputs": [
        {
          "output_type": "stream",
          "name": "stderr",
          "text": [
            "[nltk_data] Downloading package punkt to /root/nltk_data...\n",
            "[nltk_data]   Package punkt is already up-to-date!\n",
            "[nltk_data] Downloading package stopwords to /root/nltk_data...\n",
            "[nltk_data]   Package stopwords is already up-to-date!\n"
          ]
        },
        {
          "output_type": "stream",
          "name": "stdout",
          "text": [
            "Enter your complaint: elevator not running in my building\n",
            "Priority: High\n",
            "Categorized Complaints:\n",
            "Category: Maintenance\n",
            "Complaints: ['elevator not running in my building']\n"
          ]
        }
      ]
    }
  ]
}